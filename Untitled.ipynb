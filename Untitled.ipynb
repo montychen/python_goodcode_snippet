{
 "cells": [
  {
   "cell_type": "code",
   "execution_count": null,
   "id": "ea2e6982-013a-4409-bf7c-aaa392227f16",
   "metadata": {},
   "outputs": [],
   "source": [
    "import json\n",
    "\n",
    "def jsonstr_append(jsonstr: str, append: str, return_maxlength: int = 1000):\n",
    "    \"\"\"\n",
    "    {\"role\": \"user\", \"content\": \"Who won the world series in 2020?\"},\n",
    "    {\"role\": \"assistant\", \"content\": \"The Los Angeles Dodgers won the World Series in 2020.\"},\n",
    "    {\"role\": \"user\", \"content\": \"Where was it played?\"}\n",
    "    \"\"\"\n",
    "    jsonstr = jsonstr.strip()\n",
    "    append = append.strip() \n",
    "    if len(jsonstr) == 0:\n",
    "        return append\n",
    "    if len(append) == 0:\n",
    "        return jsonstr\n",
    "               \n",
    "    new_jsonstr = jsonstr + \",\" + append\n",
    "    json_list = json.loads(new_jsonstr) \n",
    "    if json_list.\n",
    "    if len(new_jsonstr)>1000:\n",
    "           json_list = json.loads(new_jsonstr) \n",
    "           json_list.pop(0)\n",
    "           \n",
    "           new_jsonstr = json_.dumps(json_list, ensure_asciii=False) \n",
    "           \n",
    "    "
   ]
  }
 ],
 "metadata": {
  "kernelspec": {
   "display_name": "Python 3 (ipykernel)",
   "language": "python",
   "name": "python3"
  },
  "language_info": {
   "codemirror_mode": {
    "name": "ipython",
    "version": 3
   },
   "file_extension": ".py",
   "mimetype": "text/x-python",
   "name": "python",
   "nbconvert_exporter": "python",
   "pygments_lexer": "ipython3",
   "version": "3.10.9"
  }
 },
 "nbformat": 4,
 "nbformat_minor": 5
}
