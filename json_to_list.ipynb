{
 "cells": [
  {
   "cell_type": "code",
   "execution_count": 21,
   "id": "1e8dbf0f-9a04-4c67-a905-34efc41a0d74",
   "metadata": {
    "tags": []
   },
   "outputs": [
    {
     "name": "stdout",
     "output_type": "stream",
     "text": [
      "[{'name': '孙悟空', 'address': '花果山'}, {'name': '唐僧', 'address': '东土大唐'}]\n",
      "<class 'list'>\n",
      "----------------------------------------\n",
      "[{\"name\": \"孙悟空\", \"address\": \"花果山\"}, {\"name\": \"唐僧\", \"address\": \"东土大唐\"}]\n",
      "<class 'str'>\n",
      "----------------------------------------\n",
      "[{'name': '孙悟空', 'address': '花果山'}, {'name': '唐僧', 'address': '东土大唐'}]\n",
      "<class 'list'>\n",
      "{'name': '孙悟空', 'address': '花果山'}\n",
      "{'name': '唐僧', 'address': '东土大唐'}\n",
      "----------------------------------------\n",
      "[{'name': '孙悟空', 'address': '花果山'}, {'name': '唐僧', 'address': '东土大唐'}]\n",
      "<class 'list'>\n"
     ]
    }
   ],
   "source": [
    "\"\"\"\n",
    "josn字符串系列 和 数组list 互相转换\n",
    "\"\"\"\n",
    "import json\n",
    "\n",
    "data_list = [{\"name\": \"孙悟空\",  \"address\": \"花果山\"},\n",
    "             {\"name\": \"唐僧\"  , \"address\": \"东土大唐\"}]\n",
    "print(data_list)\n",
    "print(type(data_list))       # 输出数据类型 list\n",
    "print(\"-\" * 40)\n",
    "\n",
    "# 将json对象 转成 字符串 json.dumps(...)\n",
    "json_str = json.dumps(data_list, ensure_ascii=False)  # 将dict类型的数据转成str\n",
    "print(json_str)             # 输出str格式的数据\n",
    "print(type(json_str))       # 输出类型 str\n",
    "print(\"-\" * 40)\n",
    "\n",
    "# json.loads(...)将json格式的字符串 转换成 python 数组对象list 如果数据不是列表结果，那结果是字典类型\n",
    "json_list = json.loads(json_str)    # 在JSON中读取数据\n",
    "print(json_list)                    # 输出数据\n",
    "print(type(json_list))              # 输出数据类型 list\n",
    "\n",
    "print(json_list[0])\n",
    "print(json_list[1])\n",
    "print(\"-\" * 40)             \n",
    "\n",
    "# 返回字符串json_str的结果\n",
    "json_list_2 = eval(json_str) \n",
    "print(json_list_2)  \n",
    "print(type(json_list_2))  # 输出类型 list\n"
   ]
  },
  {
   "cell_type": "code",
   "execution_count": 29,
   "id": "7bbd89c2-b217-4856-8cec-b0c28b61fe9b",
   "metadata": {},
   "outputs": [
    {
     "name": "stdout",
     "output_type": "stream",
     "text": [
      "[\n",
      "        {\"role\": \"user\", \"content\": \"Who won the world series in 2020?\"},\n",
      "        {\"role\": \"assistant\", \"content\": \"The Los Angeles Dodgers won the World Series in 2020.\"}\n",
      "    ]\n",
      "<class 'str'>\n"
     ]
    }
   ],
   "source": [
    "import json\n",
    "\n",
    "\n",
    "def jsonstr_append(jsonstr: str, append: str, maxlength: int = 1000):\n",
    "    \"\"\"\n",
    "    参数和返回值都是带方括号的 [...]， 确保是数组list的形式。\n",
    "    参数jsonstr的是json数组的字符串表现形式：\n",
    "    [\n",
    "        {\"role\": \"user\", \"content\": \"Who won the world series in 2020?\"},\n",
    "        {\"role\": \"assistant\", \"content\": \"The Los Angeles Dodgers won the World Series in 2020.\"}\n",
    "    ]\n",
    "       \n",
    "    参数append是仅有一条记录的json数组list，如\n",
    "    [   {\"role\": \"user\", \"content\": \"Where was it played?\"} ]\n",
    "        \n",
    "    返回值的长度由参数maxlength决定， 注意，返回值是json数组列表的字符串表现形式： \n",
    "    [\n",
    "            {\"role\": \"user\", \"content\": \"Who won the world series in 2020?\"},\n",
    "            {\"role\": \"assistant\", \"content\": \"The Los Angeles Dodgers won the World Series in 2020.\"},\n",
    "            {\"role\": \"user\", \"content\": \"Where was it played?\"}\n",
    "    ]\n",
    "    \"\"\"\n",
    "    jsonstr = jsonstr.strip() if jsonstr else \"\"   # 处理为 None 的情况\n",
    "    append = append.strip()   if append  else \"\"\n",
    "    if len(jsonstr) == 0:   # 只有append，返回值的长度可能会大于 return_maxlength\n",
    "        return append\n",
    "    if len(append) == 0:\n",
    "        return jsonstr\n",
    "\n",
    "    json_list = json.loads(jsonstr)  # 把json字符串转成list\n",
    "    append_list = json.loads(append)\n",
    "    json_list = json_list + append_list        #  两个list列表jsonstr 和 append 进行拼接\n",
    "    \n",
    "    new_jsonstr = json.dumps(json_list, ensure_ascii=False) #dumps把json转成字符串，方便检查长度\n",
    "\n",
    "    json_list_length = len(json_list)  #上面已经判断过jsonstr和append为空的可能，这里len(json_list)至少是2\n",
    "    for i in range(json_list_length):\n",
    "        if len(new_jsonstr) > maxlength:\n",
    "            json_list.pop(0)              # 超长了， 要把前面旧的一个json去掉\n",
    "            new_jsonstr = json.dumps(json_list, ensure_ascii=False) \n",
    "            if len(json_list) == 1:\n",
    "                break                     # 如果只剩下最后一个了，即使超长，也视为有效，并返回\n",
    "        else:\n",
    "            break\n",
    "\n",
    "    return new_jsonstr\n",
    "\n",
    "\n",
    "if __name__ == \"__main__\":\n",
    "    jsonstr = '''\n",
    "    [\n",
    "        {\"role\": \"user\", \"content\": \"Who won the world series in 2020?\"},\n",
    "        {\"role\": \"assistant\", \"content\": \"The Los Angeles Dodgers won the World Series in 2020.\"}\n",
    "    ]\n",
    "    '''\n",
    "    append = ''' {\"role\": \"user\", \"content\": \"Where was it played?\"} '''\n",
    "    # new_jsonstr = jsonstr_append(jsonstr, append)\n",
    "    # new_jsonstr = jsonstr_append(jsonstr, append, maxlength=20)\n",
    "    # new_jsonstr = jsonstr_append(\"    \", append)\n",
    "    # new_jsonstr = jsonstr_append(jsonstr, \"  \")\n",
    "    # new_jsonstr = jsonstr_append(None, append)\n",
    "    new_jsonstr = jsonstr_append(jsonstr, None)\n",
    "\n",
    "\n",
    "\n",
    "    print(new_jsonstr)\n",
    "    print(type(new_jsonstr))\n"
   ]
  },
  {
   "cell_type": "code",
   "execution_count": null,
   "id": "baa73a09-1206-447a-8a4f-4ce1e9cfaf71",
   "metadata": {},
   "outputs": [],
   "source": []
  },
  {
   "cell_type": "code",
   "execution_count": null,
   "id": "10eaf1a2-8f59-4c98-8571-5764364fa941",
   "metadata": {},
   "outputs": [],
   "source": []
  }
 ],
 "metadata": {
  "kernelspec": {
   "display_name": "Python 3 (ipykernel)",
   "language": "python",
   "name": "python3"
  },
  "language_info": {
   "codemirror_mode": {
    "name": "ipython",
    "version": 3
   },
   "file_extension": ".py",
   "mimetype": "text/x-python",
   "name": "python",
   "nbconvert_exporter": "python",
   "pygments_lexer": "ipython3",
   "version": "3.10.9"
  }
 },
 "nbformat": 4,
 "nbformat_minor": 5
}
