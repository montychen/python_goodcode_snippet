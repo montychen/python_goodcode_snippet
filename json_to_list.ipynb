{
 "cells": [
  {
   "cell_type": "code",
   "execution_count": 2,
   "id": "1e8dbf0f-9a04-4c67-a905-34efc41a0d74",
   "metadata": {
    "tags": []
   },
   "outputs": [
    {
     "name": "stdout",
     "output_type": "stream",
     "text": [
      "[{'name': '孙悟空', 'age': 600, 'address': '花果山'}, {'name': '唐僧', 'age': 35, 'address': '东土大唐'}]\n",
      "<class 'list'>\n",
      "----------------------------------------\n",
      "[{\"name\": \"孙悟空\", \"age\": 600, \"address\": \"花果山\"}, {\"name\": \"唐僧\", \"age\": 35, \"address\": \"东土大唐\"}]\n",
      "<class 'str'>\n",
      "----------------------------------------\n",
      "[{'name': '孙悟空', 'age': 600, 'address': '花果山'}, {'name': '唐僧', 'age': 35, 'address': '东土大唐'}]\n",
      "<class 'list'>\n",
      "{'name': '孙悟空', 'age': 600, 'address': '花果山'}\n",
      "{'name': '唐僧', 'age': 35, 'address': '东土大唐'}\n",
      "----------------------------------------\n",
      "[{'name': '孙悟空', 'age': 600, 'address': '花果山'}, {'name': '唐僧', 'age': 35, 'address': '东土大唐'}]\n",
      "<class 'list'>\n"
     ]
    }
   ],
   "source": [
    "\"\"\"\n",
    "josn字符串系列 和 数组list 互相转换\n",
    "\"\"\"\n",
    "import json\n",
    "\n",
    "data_list = [{\"name\": \"孙悟空\", \"age\": 600, \"address\": \"花果山\"},\n",
    "             {\"name\": \"唐僧\", \"age\": 35, \"address\": \"东土大唐\"}]\n",
    "print(data_list)\n",
    "print(type(data_list))       # 输出数据类型 list\n",
    "print(\"-\" * 40)\n",
    "\n",
    "# 将json对象 转成 字符串 json.dumps(...)\n",
    "json_str = json.dumps(data, ensure_ascii=False)  # 将dict类型的数据转成str\n",
    "print(json_str)             # 输出str格式的数据\n",
    "print(type(json_str))       # 输出类型 str\n",
    "print(\"-\" * 40)\n",
    "\n",
    "# 将json格式的字符串 转换成 python 数组对象list  json.loads(...)\n",
    "json_list = json.loads(json_str)    # 在JSON中读取数据\n",
    "print(json_list)                    # 输出数据\n",
    "print(type(json_list))              # 输出数据类型 list\n",
    "\n",
    "print(json_list[0])\n",
    "print(json_list[1])\n",
    "print(\"-\" * 40)             \n",
    "\n",
    "# 返回字符串json_str的结果\n",
    "json_list_2 = eval(json_str) \n",
    "print(json_list_2)  \n",
    "print(type(json_list_2))  # 输出类型 list\n"
   ]
  },
  {
   "cell_type": "code",
   "execution_count": null,
   "id": "6af67ed3",
   "metadata": {},
   "outputs": [],
   "source": []
  },
  {
   "cell_type": "code",
   "execution_count": null,
   "id": "59dd2b29-881e-4f65-b34f-b20d94d476cc",
   "metadata": {},
   "outputs": [],
   "source": []
  }
 ],
 "metadata": {
  "kernelspec": {
   "display_name": "Python 3 (ipykernel)",
   "language": "python",
   "name": "python3"
  },
  "language_info": {
   "codemirror_mode": {
    "name": "ipython",
    "version": 3
   },
   "file_extension": ".py",
   "mimetype": "text/x-python",
   "name": "python",
   "nbconvert_exporter": "python",
   "pygments_lexer": "ipython3",
   "version": "3.11.0"
  }
 },
 "nbformat": 4,
 "nbformat_minor": 5
}
